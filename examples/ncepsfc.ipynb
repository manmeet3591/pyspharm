{
 "cells": [
  {
   "cell_type": "code",
   "execution_count": 2,
   "metadata": {},
   "outputs": [],
   "source": [
    "import numpy as np\n",
    "from spharm import Spharmt\n",
    "class ncepsfc(object):\n",
    "    # read ncep 'sfc' file (fortran gridded binary data)\n",
    "    def __init__(self,filename):\n",
    "        from _read_sfc import read_griddata, read_header\n",
    "        nlons,nlats,lsoil,idate,fhour = read_header(filename)\n",
    "        self._read_griddata = read_griddata\n",
    "        self.nlons = nlons; self.nlats = nlats\n",
    "        self.lsoil = lsoil\n",
    "        self.idate = '%04i%02i%02i%02i' % (idate[3],idate[1],idate[2],idate[0])\n",
    "        self.fhour = fhour\n",
    "        self.filename = filename\n",
    "        sp = Spharmt(nlons,nlats,nlats/2,6.3712e6,gridtype='gaussian')\n",
    "        self.lats = (180./np.pi)*sp.lats\n",
    "        self.lons = (360./nlons)*np.arange(nlons)\n",
    "    def griddata(self):\n",
    "        grids2d,grids2d_desc,grids2d_name,grids3d,grids3d_desc,grids3d_name = self._read_griddata(self.filename,self.nlons,self.nlats,self.lsoil)\n",
    "        grds2d_desc = []\n",
    "        for n in range(grids2d_desc.shape[0]):\n",
    "            s = grids2d_desc[n].tostring()\n",
    "            s = s.encode('ascii').replace('\\x00','').strip()\n",
    "            grds2d_desc.append(s)\n",
    "        grds2d_name = []\n",
    "        for n in range(grids2d_name.shape[0]):\n",
    "            s = grids2d_name[n].tostring()\n",
    "            s = s.encode('ascii').replace('\\x00','').strip()\n",
    "            grds2d_name.append(s)\n",
    "        grds3d_desc = []\n",
    "        for n in range(grids3d_desc.shape[0]):\n",
    "            s = grids3d_desc[n].tostring()\n",
    "            s = s.encode('ascii').replace('\\x00','').strip()\n",
    "            grds3d_desc.append(s)\n",
    "        grds3d_name = []\n",
    "        for n in range(grids3d_name.shape[0]):\n",
    "            s = grids3d_name[n].tostring()\n",
    "            s = s.encode('ascii').replace('\\x00','').strip()\n",
    "            grds3d_name.append(s)\n",
    "        return grids2d.T,grds2d_desc,grds2d_name,grids3d.T,grds3d_desc,grds3d_name"
   ]
  },
  {
   "cell_type": "code",
   "execution_count": null,
   "metadata": {},
   "outputs": [],
   "source": []
  }
 ],
 "metadata": {
  "kernelspec": {
   "display_name": "Python 2",
   "language": "python",
   "name": "python2"
  },
  "language_info": {
   "codemirror_mode": {
    "name": "ipython",
    "version": 2
   },
   "file_extension": ".py",
   "mimetype": "text/x-python",
   "name": "python",
   "nbconvert_exporter": "python",
   "pygments_lexer": "ipython2",
   "version": "2.7.17"
  }
 },
 "nbformat": 4,
 "nbformat_minor": 2
}
