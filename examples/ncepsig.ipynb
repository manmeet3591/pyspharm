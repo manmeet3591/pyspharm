{
 "cells": [
  {
   "cell_type": "code",
   "execution_count": 1,
   "metadata": {},
   "outputs": [],
   "source": [
    "import numpy as np\n",
    "from spharm import Spharmt\n",
    "class ncepsigma(object):\n",
    "    # read ncep 'sigma' file (spectral binary data)\n",
    "    def __init__(self,filename):\n",
    "        from _read_sigma_spec import read_specdata, read_header, read_griddata, get_vcoord\n",
    "        nlons,nlats,nlevs,ntrunc,nvcoord,idate,fhour = read_header(filename)\n",
    "        self.vcoord = get_vcoord(filename,nlevs,nvcoord).T\n",
    "        self._read_specdata = read_specdata\n",
    "        self._read_griddata = read_griddata\n",
    "        self.nlons = nlons; self.nlats = nlats\n",
    "        self.ntrunc = ntrunc; self.nlevs = nlevs\n",
    "        self.idate = '%04i%02i%02i%02i' % (idate[3],idate[1],idate[2],idate[0])\n",
    "        self.fhour = fhour\n",
    "        self.filename = filename\n",
    "        self.sp = Spharmt(nlons,nlats,ntrunc,6.3712e6,gridtype='gaussian')\n",
    "        self._nf = np.sqrt(2.*np.pi)\n",
    "        self.lats = (180./np.pi)*self.sp.lats\n",
    "        self.lons = (360./nlons)*np.arange(nlons)\n",
    "    def spectogrd(self,specdata):\n",
    "        return self.sp.spectogrd(specdata)\n",
    "    def getuv(self,vrtdata,divdata):\n",
    "        return self.sp.getuv(vrtdata,divdata)\n",
    "    def specdata(self):\n",
    "        vrtspec, divspec,tempspec,zspec,lnpsspec,qspec,ozspec,cwmrspec =\\\n",
    "        self._read_specdata(self.filename,self.ntrunc,self.nlevs)\n",
    "        nf = self._nf\n",
    "        return nf*vrtspec.T,nf*divspec.T,nf*tempspec.T,\\\n",
    "               nf*zspec,nf*lnpsspec,nf*qspec.T,nf*ozspec.T,\\\n",
    "               nf*cwmrspec.T\n",
    "    def griddata(self):\n",
    "        ug,vg,tempg,zsg,psg,qg,ozg,cwmrg = self._read_griddata(self.filename,self.nlons,self.nlats,self.nlevs)\n",
    "        return ug.T,vg.T,tempg.T,zsg.T,psg.T,qg.T,ozg.T,cwmrg.T"
   ]
  },
  {
   "cell_type": "code",
   "execution_count": 5,
   "metadata": {},
   "outputs": [
    {
     "ename": "ImportError",
     "evalue": "No module named _read_sigma_spec",
     "output_type": "error",
     "traceback": [
      "\u001b[0;31m---------------------------------------------------------------------------\u001b[0m",
      "\u001b[0;31mImportError\u001b[0m                               Traceback (most recent call last)",
      "\u001b[0;32m<ipython-input-5-1ea1509cd91f>\u001b[0m in \u001b[0;36m<module>\u001b[0;34m()\u001b[0m\n\u001b[0;32m----> 1\u001b[0;31m \u001b[0msp\u001b[0m \u001b[0;34m=\u001b[0m \u001b[0mncepsigma\u001b[0m\u001b[0;34m(\u001b[0m\u001b[0;34m'siganl.gdas.1979010100'\u001b[0m\u001b[0;34m)\u001b[0m\u001b[0;34m\u001b[0m\u001b[0m\n\u001b[0m",
      "\u001b[0;32m<ipython-input-1-5610db986893>\u001b[0m in \u001b[0;36m__init__\u001b[0;34m(self, filename)\u001b[0m\n\u001b[1;32m      4\u001b[0m     \u001b[0;31m# read ncep 'sigma' file (spectral binary data)\u001b[0m\u001b[0;34m\u001b[0m\u001b[0;34m\u001b[0m\u001b[0m\n\u001b[1;32m      5\u001b[0m     \u001b[0;32mdef\u001b[0m \u001b[0m__init__\u001b[0m\u001b[0;34m(\u001b[0m\u001b[0mself\u001b[0m\u001b[0;34m,\u001b[0m\u001b[0mfilename\u001b[0m\u001b[0;34m)\u001b[0m\u001b[0;34m:\u001b[0m\u001b[0;34m\u001b[0m\u001b[0m\n\u001b[0;32m----> 6\u001b[0;31m         \u001b[0;32mfrom\u001b[0m \u001b[0m_read_sigma_spec\u001b[0m \u001b[0;32mimport\u001b[0m \u001b[0mread_specdata\u001b[0m\u001b[0;34m,\u001b[0m \u001b[0mread_header\u001b[0m\u001b[0;34m,\u001b[0m \u001b[0mread_griddata\u001b[0m\u001b[0;34m,\u001b[0m \u001b[0mget_vcoord\u001b[0m\u001b[0;34m\u001b[0m\u001b[0m\n\u001b[0m\u001b[1;32m      7\u001b[0m         \u001b[0mnlons\u001b[0m\u001b[0;34m,\u001b[0m\u001b[0mnlats\u001b[0m\u001b[0;34m,\u001b[0m\u001b[0mnlevs\u001b[0m\u001b[0;34m,\u001b[0m\u001b[0mntrunc\u001b[0m\u001b[0;34m,\u001b[0m\u001b[0mnvcoord\u001b[0m\u001b[0;34m,\u001b[0m\u001b[0midate\u001b[0m\u001b[0;34m,\u001b[0m\u001b[0mfhour\u001b[0m \u001b[0;34m=\u001b[0m \u001b[0mread_header\u001b[0m\u001b[0;34m(\u001b[0m\u001b[0mfilename\u001b[0m\u001b[0;34m)\u001b[0m\u001b[0;34m\u001b[0m\u001b[0m\n\u001b[1;32m      8\u001b[0m         \u001b[0mself\u001b[0m\u001b[0;34m.\u001b[0m\u001b[0mvcoord\u001b[0m \u001b[0;34m=\u001b[0m \u001b[0mget_vcoord\u001b[0m\u001b[0;34m(\u001b[0m\u001b[0mfilename\u001b[0m\u001b[0;34m,\u001b[0m\u001b[0mnlevs\u001b[0m\u001b[0;34m,\u001b[0m\u001b[0mnvcoord\u001b[0m\u001b[0;34m)\u001b[0m\u001b[0;34m.\u001b[0m\u001b[0mT\u001b[0m\u001b[0;34m\u001b[0m\u001b[0m\n",
      "\u001b[0;31mImportError\u001b[0m: No module named _read_sigma_spec"
     ]
    }
   ],
   "source": [
    "sp = ncepsigma('siganl.gdas.1979010100')"
   ]
  },
  {
   "cell_type": "code",
   "execution_count": null,
   "metadata": {},
   "outputs": [],
   "source": []
  }
 ],
 "metadata": {
  "kernelspec": {
   "display_name": "Python 2",
   "language": "python",
   "name": "python2"
  },
  "language_info": {
   "codemirror_mode": {
    "name": "ipython",
    "version": 2
   },
   "file_extension": ".py",
   "mimetype": "text/x-python",
   "name": "python",
   "nbconvert_exporter": "python",
   "pygments_lexer": "ipython2",
   "version": "2.7.17"
  }
 },
 "nbformat": 4,
 "nbformat_minor": 2
}
