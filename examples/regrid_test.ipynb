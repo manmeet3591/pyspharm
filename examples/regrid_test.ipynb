{
 "cells": [
  {
   "cell_type": "code",
   "execution_count": 2,
   "metadata": {},
   "outputs": [
    {
     "name": "stdout",
     "output_type": "stream",
     "text": [
      "reggrid error (should be less than 1.e-6):\n",
      "4.4218522781623654e-07\n",
      "spectral interpolation error (should be less than 1.e-6):\n",
      "2.918833483707146e-07\n"
     ]
    }
   ],
   "source": [
    "#!/usr/bin/env python\n",
    "\n",
    "from spharm import gaussian_lats_wts, Spharmt, legendre, specintrp, getgeodesicpts, regrid\n",
    "import numpy, math, sys\n",
    "\n",
    "# Rossby-Haurwitz wave field\n",
    "\n",
    "def rhwave(wavenum,omega,re,lats,lons):\n",
    "    return -re**2*omega*numpy.sin(lats)+re**2*omega*((numpy.cos(lats))**wavenum)*numpy.sin(lats)*numpy.cos(wavenum*lons)\n",
    "\n",
    "# create Rossby-Haurwitz wave data on 144x73 regular and 192x94 gaussian grids.\n",
    "\n",
    "nlats_reg = 73\n",
    "nlons_reg = 144\n",
    "nlats_gau = 94\n",
    "nlons_gau = 192\n",
    "gaulats, wts = gaussian_lats_wts(nlats_gau)\n",
    "lats_reg = numpy.zeros((nlats_reg,nlons_reg),numpy.float64)\n",
    "lons_reg = numpy.zeros((nlats_reg,nlons_reg),numpy.float64)\n",
    "lons_gau = numpy.zeros((nlats_gau,nlons_gau),numpy.float64)\n",
    "\n",
    "wavenum = 4.0\n",
    "omega = 7.848e-6\n",
    "re = 6.371e6\n",
    "delat = 2.*math.pi/nlons_reg\n",
    "lats = (0.5*math.pi-delat*numpy.indices(lats_reg.shape)[0,:,:])\n",
    "lons = (delat*numpy.indices(lons_reg.shape)[1,:,:])\n",
    "psi_reg_exact = rhwave(wavenum,omega,re,lats,lons)\n",
    "delat = 2.*math.pi/nlons_gau\n",
    "lats = (math.pi/180.)*numpy.transpose(gaulats*numpy.ones((nlons_gau,nlats_gau),'d'))\n",
    "lons = (delat*numpy.indices(lons_gau.shape)[1,:,:])\n",
    "psi_gau = rhwave(wavenum,omega,re,lats,lons)\n",
    "\n",
    "# create Spharmt instances for regular and gaussian grids.\n",
    "\n",
    "reggrid = Spharmt(nlons_reg,nlats_reg,gridtype='regular')\n",
    "gaugrid = Spharmt(nlons_gau,nlats_gau,gridtype='gaussian')\n",
    "\n",
    "# regrid from gaussian to regular grid.\n",
    "\n",
    "psi_reg = regrid(gaugrid,reggrid,psi_gau)\n",
    "\n",
    "print('reggrid error (should be less than 1.e-6):')\n",
    "print(numpy.fabs(psi_reg-psi_reg_exact).max()/numpy.fabs(psi_reg_exact).max())\n",
    "\n",
    "# spectrally interpolate to geodesic grid.\n",
    "\n",
    "ntrunc = nlats_reg-1\n",
    "latpts,lonpts = getgeodesicpts(7) # compute geodesic points\n",
    "dataspec = reggrid.grdtospec(psi_reg_exact,ntrunc) # compute spectral coeffs\n",
    "nlat = 0\n",
    "dg2rad = math.pi/180. # degrees to radians factor.\n",
    "err = []\n",
    "for lat, lon in zip(latpts,lonpts):\n",
    "    legfuncs = legendre(lat,ntrunc) # compute legendre functions\n",
    "    intrp = specintrp(lon,dataspec,legfuncs) # do spectral interpolation\n",
    "    exact = rhwave(wavenum,omega,re,dg2rad*lat,dg2rad*lon) # exact soln\n",
    "    err.append(exact-intrp) # error\n",
    "    nlat = nlat+1\n",
    "print('spectral interpolation error (should be less than 1.e-6):')\n",
    "print(max(err)/numpy.fabs(psi_reg_exact).max())"
   ]
  },
  {
   "cell_type": "code",
   "execution_count": null,
   "metadata": {},
   "outputs": [],
   "source": []
  }
 ],
 "metadata": {
  "kernelspec": {
   "display_name": "Python 2",
   "language": "python",
   "name": "python2"
  },
  "language_info": {
   "codemirror_mode": {
    "name": "ipython",
    "version": 2
   },
   "file_extension": ".py",
   "mimetype": "text/x-python",
   "name": "python",
   "nbconvert_exporter": "python",
   "pygments_lexer": "ipython2",
   "version": "2.7.17"
  }
 },
 "nbformat": 4,
 "nbformat_minor": 2
}
